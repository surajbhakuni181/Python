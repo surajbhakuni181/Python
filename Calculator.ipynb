{
 "cells": [
  {
   "cell_type": "code",
   "execution_count": 1,
   "metadata": {},
   "outputs": [
    {
     "name": "stdout",
     "output_type": "stream",
     "text": [
      "Enter number one: 1000\n",
      "Enter number two: 2000\n",
      "Enter event, e.g. - sum/subtraction/multiplication/division/square/log: sum\n",
      "\n",
      "the sum is 3000\n"
     ]
    }
   ],
   "source": [
    "import math\n",
    "x = int(input(\"Enter number one: \"))\n",
    "y = int(input(\"Enter number two: \"))\n",
    "calcmethod = [\"sum\",\"subtraction\",\"multiplication\",\"division\",\"square\",\"log\"]\n",
    "\n",
    "event = input(\"Enter event, e.g. - sum/subtraction/multiplication/division/square/log: \")\n",
    "if event == calcmethod[0]:\n",
    "    result = x+y\n",
    "elif event == calcmethod[1]:\n",
    "    result = x-y\n",
    "elif event == calcmethod[2]:\n",
    "    result = x*u\n",
    "elif event == calcmethod[3]:\n",
    "    result = x/y\n",
    "elif event == calcmethod[4]:\n",
    "    result = x**y\n",
    "elif event == calcmethod[5]:\n",
    "    result = math.log(x,y)\n",
    "else:\n",
    "    result = \"None\"\n",
    "    print(\"something went wrong, please try again\")\n",
    "    \n",
    "print(\"\\nthe\",calcmethod[calcmethod.index(event)],\"is\",result)"
   ]
  },
  {
   "cell_type": "code",
   "execution_count": null,
   "metadata": {},
   "outputs": [],
   "source": []
  }
 ],
 "metadata": {
  "kernelspec": {
   "display_name": "Python 3",
   "language": "python",
   "name": "python3"
  },
  "language_info": {
   "codemirror_mode": {
    "name": "ipython",
    "version": 3
   },
   "file_extension": ".py",
   "mimetype": "text/x-python",
   "name": "python",
   "nbconvert_exporter": "python",
   "pygments_lexer": "ipython3",
   "version": "3.8.3"
  }
 },
 "nbformat": 4,
 "nbformat_minor": 4
}
