{
 "cells": [
  {
   "cell_type": "code",
   "execution_count": 1,
   "metadata": {},
   "outputs": [
    {
     "name": "stdout",
     "output_type": "stream",
     "text": [
      "type folder path to where folders will created, remember use / instead of \\: C:/Users/Bhakuni's/Desktop/imagesgoogle\n",
      "C:\\Users\\Bhakuni's\\Desktop\\imagesgoogle\n",
      "Enter Range to create folder: 10\n"
     ]
    },
    {
     "data": {
      "text/plain": [
       "[None, None, None, None, None, None, None, None, None, None]"
      ]
     },
     "execution_count": 1,
     "metadata": {},
     "output_type": "execute_result"
    }
   ],
   "source": [
    "import os\n",
    "\n",
    "#C:/Users/Bhakuni's/Desktop/imagesgoogle\n",
    "os.chdir(input(\"type folder path to where folders will created, remember use / instead of \\: \"))\n",
    "print(os.getcwd())\n",
    "list1 = list(range(int(input(\"Enter Range to create folder: \"))))\n",
    "[os.mkdir(str(i)) for i in list1]"
   ]
  },
  {
   "cell_type": "code",
   "execution_count": null,
   "metadata": {},
   "outputs": [],
   "source": []
  }
 ],
 "metadata": {
  "kernelspec": {
   "display_name": "Python 3",
   "language": "python",
   "name": "python3"
  },
  "language_info": {
   "codemirror_mode": {
    "name": "ipython",
    "version": 3
   },
   "file_extension": ".py",
   "mimetype": "text/x-python",
   "name": "python",
   "nbconvert_exporter": "python",
   "pygments_lexer": "ipython3",
   "version": "3.8.3"
  }
 },
 "nbformat": 4,
 "nbformat_minor": 4
}
