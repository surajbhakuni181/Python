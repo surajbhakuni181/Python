{
 "cells": [
  {
   "cell_type": "code",
   "execution_count": 1,
   "metadata": {},
   "outputs": [
    {
     "name": "stdout",
     "output_type": "stream",
     "text": [
      "\n",
      "MINIATURE DICE ROLLING GAME\n",
      "\n"
     ]
    },
    {
     "data": {
      "text/html": [
       "<img src=\"https://upload.wikimedia.org/wikipedia/commons/6/6a/Dice.jpg\"/>"
      ],
      "text/plain": [
       "<IPython.core.display.Image object>"
      ]
     },
     "metadata": {},
     "output_type": "display_data"
    },
    {
     "name": "stdout",
     "output_type": "stream",
     "text": [
      "[-----------]\n",
      "[-----------]\n",
      "[-----0-----]\n",
      "[--0--------]\n",
      "[-----0-----]\n",
      "[--------0--]\n",
      "[-----0-----]\n",
      "[-----------]\n",
      "[-----------]\n",
      "Enter (y) to continue this Game ot you can enter n to exit this gamey\n",
      "\n",
      "\n",
      "[-----------]\n",
      "[---0-------]\n",
      "[-------0---]\n",
      "[-----------]\n",
      "Enter (y) to continue this Game ot you can enter n to exit this gamey\n",
      "\n",
      "\n",
      "[-----------]\n",
      "[-----0-----]\n",
      "[-0---------]\n",
      "[--------0--]\n",
      "[-0---------]\n",
      "[--------0--]\n",
      "[-----0-----]\n",
      "[-----------]\n",
      "Enter (y) to continue this Game ot you can enter n to exit this gamey\n",
      "\n",
      "\n",
      "[-----------]\n",
      "[--0--------]\n",
      "[-----0-----]\n",
      "[--------0--]\n",
      "[-----------]\n",
      "Enter (y) to continue this Game ot you can enter n to exit this gamey\n",
      "\n",
      "\n",
      "[-----------]\n",
      "[---0-------]\n",
      "[-------0---]\n",
      "[-----------]\n",
      "Enter (y) to continue this Game ot you can enter n to exit this gamey\n",
      "\n",
      "\n",
      "[-----------]\n",
      "[-----0-----]\n",
      "[-0---------]\n",
      "[--------0--]\n",
      "[-0---------]\n",
      "[--------0--]\n",
      "[-----0-----]\n",
      "[-----------]\n",
      "Enter (y) to continue this Game ot you can enter n to exit this gamey\n",
      "\n",
      "\n",
      "[-----------]\n",
      "[---0-------]\n",
      "[-------0---]\n",
      "[-----------]\n",
      "Enter (y) to continue this Game ot you can enter n to exit this gamen\n",
      "\n",
      "\n"
     ]
    }
   ],
   "source": [
    "from IPython.display import Image\n",
    "print(\"\\nMINIATURE DICE ROLLING GAME\\n\")\n",
    "display(Image(url= \"https://upload.wikimedia.org/wikipedia/commons/6/6a/Dice.jpg\"))\n",
    "\n",
    "import random\n",
    "x = \"y\"\n",
    "while x == \"y\":\n",
    "    number = random.randint(1,6)\n",
    "    \n",
    "    if number == 1:\n",
    "        print(\"[-----------]\")\n",
    "        print(\"[-----0-----]\")\n",
    "        print(\"[-----------]\")\n",
    "    if number == 2:\n",
    "        print(\"[-----------]\")\n",
    "        print(\"[---0-------]\")\n",
    "        print(\"[-------0---]\")\n",
    "        print(\"[-----------]\")\n",
    "    if number == 3:\n",
    "        print(\"[-----------]\")\n",
    "        print(\"[--0--------]\")\n",
    "        print(\"[-----0-----]\")\n",
    "        print(\"[--------0--]\")\n",
    "        print(\"[-----------]\")\n",
    "    if number == 4:\n",
    "        print(\"[-----------]\")\n",
    "        print(\"[-----0-----]\")\n",
    "        print(\"[-------0---]\")\n",
    "        print(\"[---0-------]\")\n",
    "        print(\"[-----0-----]\")\n",
    "        print(\"[-----------]\")\n",
    "    if number == 5:\n",
    "        print(\"[-----------]\")\n",
    "        print(\"[-----------]\")\n",
    "        print(\"[-----0-----]\")\n",
    "        print(\"[--0--------]\")\n",
    "        print(\"[-----0-----]\")\n",
    "        print(\"[--------0--]\")\n",
    "        print(\"[-----0-----]\")\n",
    "        print(\"[-----------]\")\n",
    "        print(\"[-----------]\")\n",
    "    if number == 6:\n",
    "        print(\"[-----------]\")\n",
    "        print(\"[-----0-----]\")\n",
    "        print(\"[-0---------]\")\n",
    "        print(\"[--------0--]\")\n",
    "        print(\"[-0---------]\")\n",
    "        print(\"[--------0--]\")\n",
    "        print(\"[-----0-----]\")\n",
    "        print(\"[-----------]\")\n",
    "        \n",
    "    x = input(\"Enter (y) to continue this Game ot you can enter n to exit this game\")\n",
    "    print(\"\\n\")"
   ]
  },
  {
   "cell_type": "code",
   "execution_count": null,
   "metadata": {},
   "outputs": [],
   "source": []
  }
 ],
 "metadata": {
  "kernelspec": {
   "display_name": "Python 3",
   "language": "python",
   "name": "python3"
  },
  "language_info": {
   "codemirror_mode": {
    "name": "ipython",
    "version": 3
   },
   "file_extension": ".py",
   "mimetype": "text/x-python",
   "name": "python",
   "nbconvert_exporter": "python",
   "pygments_lexer": "ipython3",
   "version": "3.8.3"
  }
 },
 "nbformat": 4,
 "nbformat_minor": 4
}
