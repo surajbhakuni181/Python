{
 "cells": [
  {
   "cell_type": "code",
   "execution_count": 96,
   "metadata": {},
   "outputs": [
    {
     "name": "stdout",
     "output_type": "stream",
     "text": [
      "enter the lower bound:1\n",
      "enter the upper bound:10\n",
      "\n",
      "you have only 3  chances to guess\n",
      "guess a number:100\n",
      "you guessed too big\n",
      "guess a number:2\n",
      "you guessed too small\n",
      "guess a number:3\n",
      "Great, you finally guess the number correctly in 3 try\n",
      "\n",
      "The number is: 3\n",
      "\tBetter Luck Next time!\n"
     ]
    }
   ],
   "source": [
    "import random\n",
    "import math\n",
    "\n",
    "lower = int(input(\"enter the lower bound:\"))\n",
    "upper = int(input(\"enter the upper bound:\"))\n",
    "import numpy as np\n",
    "x = np.random.randint(lower,upper)\n",
    "print(\"\\nyou have only\",round(math.log(upper-lower,2)),\" chances to guess\")\n",
    "count = 0\n",
    "while count < round(math.log(upper-lower,2)):\n",
    "    count+=1\n",
    "    guess = int(input(\"guess a number:\"))\n",
    "    if x == guess:\n",
    "        print(\"Great, you finally guess the number correctly in\", count, \"try\")\n",
    "        break\n",
    "    elif x > guess:\n",
    "        print(\"you guessed too small\")\n",
    "    elif x < guess:\n",
    "        print(\"you guessed too big\")       \n",
    "if count >= round(math.log(upper-lower,2)):\n",
    "    print(\"\\nThe number is:\",x)\n",
    "    print(\"\\tBetter Luck Next time!\")"
   ]
  },
  {
   "cell_type": "code",
   "execution_count": null,
   "metadata": {},
   "outputs": [],
   "source": []
  }
 ],
 "metadata": {
  "kernelspec": {
   "display_name": "Python 3",
   "language": "python",
   "name": "python3"
  },
  "language_info": {
   "codemirror_mode": {
    "name": "ipython",
    "version": 3
   },
   "file_extension": ".py",
   "mimetype": "text/x-python",
   "name": "python",
   "nbconvert_exporter": "python",
   "pygments_lexer": "ipython3",
   "version": "3.8.3"
  }
 },
 "nbformat": 4,
 "nbformat_minor": 4
}
